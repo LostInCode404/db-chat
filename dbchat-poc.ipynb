{
 "cells": [
  {
   "cell_type": "markdown",
   "id": "efa8f154-7602-4491-a535-197fdcba7a86",
   "metadata": {},
   "source": [
    "# DB-Chat"
   ]
  },
  {
   "cell_type": "markdown",
   "id": "6961108b-ded3-4ba3-8fd3-4ae01e3ea237",
   "metadata": {},
   "source": [
    "Ask DB is a chat based interface to talk with a database in natural language. It can be used to make queries on a database that can help users get information and valuable insights."
   ]
  },
  {
   "cell_type": "markdown",
   "id": "6d400e0f-2410-4f1a-b848-0d136b350334",
   "metadata": {},
   "source": [
    "## Gemini LLM"
   ]
  },
  {
   "cell_type": "code",
   "execution_count": 1,
   "id": "82e7ec15-68c0-46a7-99c4-af91b4ea0fe8",
   "metadata": {},
   "outputs": [
    {
     "name": "stderr",
     "output_type": "stream",
     "text": [
      "/home/naveen/micromamba/envs/ml/lib/python3.11/site-packages/tqdm/auto.py:21: TqdmWarning: IProgress not found. Please update jupyter and ipywidgets. See https://ipywidgets.readthedocs.io/en/stable/user_install.html\n",
      "  from .autonotebook import tqdm as notebook_tqdm\n"
     ]
    }
   ],
   "source": [
    "# Imports\n",
    "import os\n",
    "from dotenv import dotenv_values \n",
    "from langchain_google_genai import ChatGoogleGenerativeAI"
   ]
  },
  {
   "cell_type": "code",
   "execution_count": 2,
   "id": "acc0cf99-c323-4827-8e38-a78be1c69ae7",
   "metadata": {},
   "outputs": [],
   "source": [
    "# Read environment file\n",
    "GOOGLE_API_KEY = dotenv_values(os.path.expanduser('~/.google'))['GOOGLE_AI_API_KEY']"
   ]
  },
  {
   "cell_type": "code",
   "execution_count": 137,
   "id": "df23b38a-ea23-461b-8d34-ab7cf0c476b7",
   "metadata": {},
   "outputs": [],
   "source": [
    "# LLM Object\n",
    "llm = ChatGoogleGenerativeAI(model='gemini-1.5-flash', google_api_key=GOOGLE_API_KEY, temperature=0.2)"
   ]
  },
  {
   "cell_type": "code",
   "execution_count": 138,
   "id": "c76fb0c0-edf8-4e22-a0a0-a3aa102d027f",
   "metadata": {},
   "outputs": [
    {
     "data": {
      "text/plain": [
       "AIMessage(content=\"Green leaves whisper soft,\\nSunlight dances on the stream,\\nPeace in nature's heart. \\n\", response_metadata={'prompt_feedback': {'block_reason': 0, 'safety_ratings': []}, 'finish_reason': 'STOP', 'safety_ratings': [{'category': 'HARM_CATEGORY_SEXUALLY_EXPLICIT', 'probability': 'NEGLIGIBLE', 'blocked': False}, {'category': 'HARM_CATEGORY_HATE_SPEECH', 'probability': 'NEGLIGIBLE', 'blocked': False}, {'category': 'HARM_CATEGORY_HARASSMENT', 'probability': 'NEGLIGIBLE', 'blocked': False}, {'category': 'HARM_CATEGORY_DANGEROUS_CONTENT', 'probability': 'NEGLIGIBLE', 'blocked': False}]}, id='run-0cdd93e1-79c5-4bc2-87bf-2ff84584bce3-0')"
      ]
     },
     "execution_count": 138,
     "metadata": {},
     "output_type": "execute_result"
    }
   ],
   "source": [
    "# Test LLM\n",
    "llm.invoke(\"Write a haiku about nature\")"
   ]
  },
  {
   "cell_type": "markdown",
   "id": "23fdbe2b-e772-448a-be8d-204cf5609b09",
   "metadata": {},
   "source": [
    "## Database Agent"
   ]
  },
  {
   "cell_type": "code",
   "execution_count": 139,
   "id": "b4602349-2a0c-4525-b291-8d2b3717c73a",
   "metadata": {},
   "outputs": [],
   "source": [
    "# Imports\n",
    "from langchain_community.utilities.sql_database import SQLDatabase\n",
    "from langchain_community.agent_toolkits.sql.toolkit import SQLDatabaseToolkit\n",
    "from langchain_community.agent_toolkits import create_sql_agent"
   ]
  },
  {
   "cell_type": "code",
   "execution_count": 140,
   "id": "0d9fa47a-5266-4603-b066-c111d891b393",
   "metadata": {},
   "outputs": [],
   "source": [
    "# Create db agent toolkit\n",
    "db_user = 'root'\n",
    "db_password = 'admin'\n",
    "db_host = 'localhost'\n",
    "db_name = 'askdb'\n",
    "db = SQLDatabase.from_uri(f'mysql+pymysql://{db_user}:{db_password}@{db_host}/{db_name}')\n",
    "toolkit = SQLDatabaseToolkit(db=db, llm=llm)"
   ]
  },
  {
   "cell_type": "code",
   "execution_count": 312,
   "id": "b8c41590-ab3e-4fb9-b3b7-8287d9c64e05",
   "metadata": {},
   "outputs": [],
   "source": [
    "# DB Agent\n",
    "agent_executor = create_sql_agent(llm, toolkit=toolkit, verbose=True, agent_type='tool-calling')"
   ]
  },
  {
   "cell_type": "code",
   "execution_count": 489,
   "id": "d8273819-0311-475f-83ae-91116d1f6d67",
   "metadata": {},
   "outputs": [
    {
     "name": "stdout",
     "output_type": "stream",
     "text": [
      "\n",
      "\n",
      "\u001b[1m> Entering new SQL Agent Executor chain...\u001b[0m\n",
      "\u001b[32;1m\u001b[1;3m\n",
      "Invoking: `sql_db_list_tables` with `{'tool_input': ''}`\n",
      "\n",
      "\n",
      "\u001b[0m\u001b[38;5;200m\u001b[1;3mbrand, category, discount, product, product_name\u001b[0m\u001b[32;1m\u001b[1;3m\n",
      "Invoking: `sql_db_schema` with `{'table_names': 'brand'}`\n",
      "\n",
      "\n",
      "\u001b[0m\u001b[33;1m\u001b[1;3m\n",
      "CREATE TABLE brand (\n",
      "\tbrand_id INTEGER(11) NOT NULL, \n",
      "\tname VARCHAR(128) NOT NULL, \n",
      "\tPRIMARY KEY (brand_id)\n",
      ")COLLATE utf8mb4_uca1400_ai_ci ENGINE=InnoDB DEFAULT CHARSET=utf8mb4\n",
      "\n",
      "/*\n",
      "3 rows from brand table:\n",
      "brand_id\tname\n",
      "1\tNike\n",
      "2\tAdidas\n",
      "3\tLevi\n",
      "*/\u001b[0m\u001b[32;1m\u001b[1;3m\n",
      "Invoking: `sql_db_query` with `{'query': 'SELECT name FROM brand'}`\n",
      "\n",
      "\n",
      "\u001b[0m\u001b[36;1m\u001b[1;3m[('Nike',), ('Adidas',), ('Levi',), ('Gucci',)]\u001b[0m\u001b[32;1m\u001b[1;3mThe brand names are Nike, Adidas, Levi, and Gucci.\u001b[0m\n",
      "\n",
      "\u001b[1m> Finished chain.\u001b[0m\n"
     ]
    },
    {
     "data": {
      "text/plain": [
       "{'input': 'List all the brand names',\n",
       " 'output': 'The brand names are Nike, Adidas, Levi, and Gucci.'}"
      ]
     },
     "execution_count": 489,
     "metadata": {},
     "output_type": "execute_result"
    }
   ],
   "source": [
    "# Test db agent\n",
    "agent_executor.invoke(\"List all the brand names\")"
   ]
  },
  {
   "cell_type": "markdown",
   "id": "d5f413dc-1843-47a9-b2cb-262ce7bedae6",
   "metadata": {},
   "source": [
    "## Few Shot Learning"
   ]
  },
  {
   "cell_type": "markdown",
   "id": "ae646063-737e-48e3-bee8-03482f751187",
   "metadata": {},
   "source": [
    "The LLM does not understand the database schema so it makes mistakes, like not multiplying price by quantity when asking for total price of some products in my sample database.\n",
    "I have prepared some data based on the mistakes it makes for few shot learning to help the model learn context."
   ]
  },
  {
   "cell_type": "markdown",
   "id": "d40a2d85-8d3d-4100-881f-06789af2e300",
   "metadata": {},
   "source": [
    "#### Load Data"
   ]
  },
  {
   "cell_type": "code",
   "execution_count": 507,
   "id": "e0796827-912c-438d-9c7c-ca94aa06f37e",
   "metadata": {},
   "outputs": [],
   "source": [
    "# Import module\n",
    "import json"
   ]
  },
  {
   "cell_type": "code",
   "execution_count": 515,
   "id": "433f0a4e-9c4e-4344-9685-b37708392772",
   "metadata": {},
   "outputs": [],
   "source": [
    "few_shot = []\n",
    "with open('./vector-db/few-shot-data.json' , 'r') as f:\n",
    "    few_shot = json.load(f)"
   ]
  },
  {
   "cell_type": "code",
   "execution_count": 517,
   "id": "3a2fa25b-fef4-4af8-b5d9-df4f2c418759",
   "metadata": {},
   "outputs": [],
   "source": [
    "blobs = [ \" \".join(sample.values()) for sample in few_shots]"
   ]
  },
  {
   "cell_type": "markdown",
   "id": "1d0331ca-caa9-455d-9a85-b5d39be0eb86",
   "metadata": {},
   "source": [
    "#### Generate Embeddings"
   ]
  },
  {
   "cell_type": "code",
   "execution_count": 519,
   "id": "58fc8320-0839-41cf-a68a-4932480d08d8",
   "metadata": {},
   "outputs": [],
   "source": [
    "# Import huggingface embedding lib\n",
    "from langchain_huggingface import HuggingFaceEmbeddings"
   ]
  },
  {
   "cell_type": "code",
   "execution_count": 520,
   "id": "f74d5494-abf2-4db5-87fa-3ebf76e19244",
   "metadata": {},
   "outputs": [
    {
     "name": "stderr",
     "output_type": "stream",
     "text": [
      "/home/naveen/micromamba/envs/ml/lib/python3.11/site-packages/huggingface_hub/file_download.py:1132: FutureWarning: `resume_download` is deprecated and will be removed in version 1.0.0. Downloads always resume when possible. If you want to force a new download, use `force_download=True`.\n",
      "  warnings.warn(\n"
     ]
    }
   ],
   "source": [
    "# Embedder\n",
    "embedding = HuggingFaceEmbeddings(model_name='sentence-transformers/all-MiniLM-L6-v2')"
   ]
  },
  {
   "cell_type": "markdown",
   "id": "9ad1ebb9-63a8-4d2f-9031-784e02cec944",
   "metadata": {},
   "source": [
    "#### Add Embeddings to Vector Store"
   ]
  },
  {
   "cell_type": "code",
   "execution_count": 521,
   "id": "49c84ec9-35f2-48c1-8d5f-48fbd65afd09",
   "metadata": {},
   "outputs": [],
   "source": [
    "# Import vector store\n",
    "from langchain.vectorstores import Chroma"
   ]
  },
  {
   "cell_type": "code",
   "execution_count": 523,
   "id": "0198fa45-f39a-4b65-b24c-8e446806078a",
   "metadata": {},
   "outputs": [
    {
     "name": "stderr",
     "output_type": "stream",
     "text": [
      "Python-dotenv could not parse statement starting at line 1\n",
      "Python-dotenv could not parse statement starting at line 2\n"
     ]
    }
   ],
   "source": [
    "# Generate vector store\n",
    "vectorstore = Chroma.from_texts(blobs, embedding=embedding, metadatas=few_shots)"
   ]
  },
  {
   "cell_type": "markdown",
   "id": "1a894e0f-164f-434e-9840-bfdedb50ac3c",
   "metadata": {},
   "source": [
    "#### Similarity Matching"
   ]
  },
  {
   "cell_type": "code",
   "execution_count": 524,
   "id": "1ddfc759-d3d7-401e-8c18-cfff3e7fd888",
   "metadata": {},
   "outputs": [],
   "source": [
    "# Import matcher\n",
    "from langchain.prompts import SemanticSimilarityExampleSelector"
   ]
  },
  {
   "cell_type": "code",
   "execution_count": 535,
   "id": "1d10bf56-e9f3-4958-b877-878d5fbda375",
   "metadata": {},
   "outputs": [],
   "source": [
    "# Selector object\n",
    "example_selector = SemanticSimilarityExampleSelector(vectorstore=vectorstore, k=5, input_keys=[\"input\"])"
   ]
  },
  {
   "cell_type": "code",
   "execution_count": 536,
   "id": "5f8540c0-8922-410b-9056-71c925911c30",
   "metadata": {},
   "outputs": [
    {
     "data": {
      "text/plain": [
       "[{'answer': 'The available colors for Adidas Boots are: White.',\n",
       "  'input': 'What colors are available for Gucci boots?',\n",
       "  'query': \"SELECT DISTINCT color FROM product WHERE product_name_id = (SELECT product_name_id FROM product_name WHERE name = 'Boots') AND brand_id = (SELECT brand_id FROM brand WHERE name = 'Gucci')\"},\n",
       " {'answer': 'The available brands are Nike, Adidas, Levi, and Gucci.',\n",
       "  'input': 'What brands are available?',\n",
       "  'query': 'select name from brand'},\n",
       " {'answer': 'The available colors for Shorts of brand Nike are Red.',\n",
       "  'input': 'What colors are available for Shorts of brand Nike?',\n",
       "  'query': \"SELECT DISTINCT color FROM product WHERE brand_id = (SELECT brand_id FROM brand WHERE name = 'Nike') AND product_name_id = (SELECT product_name_id FROM product_name WHERE name = 'Shorts')\"},\n",
       " {'answer': 'There are 3 red Nike shirts available.',\n",
       "  'input': 'How many red Nike Shirts are available.',\n",
       "  'query': \"SELECT sum(quantity) FROM product WHERE color = 'Red' AND brand_id = (SELECT brand_id FROM brand WHERE name = 'Nike') AND product.product_name_id = (SELECT product_name_id from product_name where name='Shirt')\"},\n",
       " {'answer': 'The available products are: Shirt, Jacket, Jeans, Shorts, Sneakers, Sandals, Boots.',\n",
       "  'input': 'What products are available?',\n",
       "  'query': 'SELECT distinct name FROM product left join product_name on product_name.product_name_id = product.product_name_id'}]"
      ]
     },
     "execution_count": 536,
     "metadata": {},
     "output_type": "execute_result"
    }
   ],
   "source": [
    "example_selector.select_examples({\"input\": \"What color are available for all gucci items\"})"
   ]
  },
  {
   "cell_type": "markdown",
   "id": "cf11b477-ac0d-426f-9d28-046cc006d545",
   "metadata": {},
   "source": [
    "#### Custom Prompt"
   ]
  },
  {
   "cell_type": "code",
   "execution_count": 537,
   "id": "d724c39e-4070-4917-b184-0a4ed9f4ed3b",
   "metadata": {},
   "outputs": [
    {
     "name": "stdout",
     "output_type": "stream",
     "text": [
      "System: You are an agent designed to interact with a SQL database.\n",
      "Given an input question, create a syntactically correct mysql query to run, then look at the results of the query and return the answer.\n",
      "Unless the user specifies a specific number of examples they wish to obtain, always limit your query to at most 10 results.\n",
      "You can order the results by a relevant column to return the most interesting examples in the database.\n",
      "Never query for all the columns from a specific table, only ask for the relevant columns given the question.\n",
      "You have access to tools for interacting with the database.\n",
      "Only use the below tools. Only use the information returned by the below tools to construct your final answer.\n",
      "You MUST double check your query before executing it. If you get an error while executing a query, rewrite the query and try again.\n",
      "\n",
      "DO NOT make any DML statements (INSERT, UPDATE, DELETE, DROP etc.) to the database.\n",
      "\n",
      "If the question does not seem related to the database, just return \"I don't know\" as the answer.\n",
      "\n",
      "Human: List all the brand names\n",
      "AI: I should look at the tables in the database to see what I can query.  Then I should query the schema of the most relevant tables.\n"
     ]
    }
   ],
   "source": [
    "print(\"System: You are an agent designed to interact with a SQL database.\\nGiven an input question, create a syntactically correct mysql query to run, then look at the results of the query and return the answer.\\nUnless the user specifies a specific number of examples they wish to obtain, always limit your query to at most 10 results.\\nYou can order the results by a relevant column to return the most interesting examples in the database.\\nNever query for all the columns from a specific table, only ask for the relevant columns given the question.\\nYou have access to tools for interacting with the database.\\nOnly use the below tools. Only use the information returned by the below tools to construct your final answer.\\nYou MUST double check your query before executing it. If you get an error while executing a query, rewrite the query and try again.\\n\\nDO NOT make any DML statements (INSERT, UPDATE, DELETE, DROP etc.) to the database.\\n\\nIf the question does not seem related to the database, just return \\\"I don't know\\\" as the answer.\\n\\nHuman: List all the brand names\\nAI: I should look at the tables in the database to see what I can query.  Then I should query the schema of the most relevant tables.\")"
   ]
  },
  {
   "cell_type": "code",
   "execution_count": 538,
   "id": "9c74b57a-6ce4-4133-b3f6-ebe9fb29df64",
   "metadata": {},
   "outputs": [],
   "source": [
    "# Import prompt templates\n",
    "from langchain_core.prompts import PromptTemplate, FewShotPromptTemplate, ChatPromptTemplate, SystemMessagePromptTemplate, MessagesPlaceholder"
   ]
  },
  {
   "cell_type": "code",
   "execution_count": 539,
   "id": "30988425-8bbb-4001-9f4f-d3ad0ddae4bb",
   "metadata": {},
   "outputs": [],
   "source": [
    "# System prefix\n",
    "system_prefix = \"\"\"\n",
    "You are an agent designed to interact with a SQL database.\n",
    "Given an input question, create a syntactically correct {dialect} query to run, then look at the results of the query and return the answer.\n",
    "Unless the user specifies a specific number of examples they wish to obtain, always limit your query to at most {top_k} results.\n",
    "You can order the results by a relevant column to return the most interesting examples in the database.\n",
    "Never query for all the columns from a specific table, only ask for the relevant columns given the question.\n",
    "You have access to tools for interacting with the database.\n",
    "Only use the below tools. Only use the information returned by the below tools to construct your final answer.\n",
    "You MUST always double check your query before executing it. If you get an error while executing a query, rewrite the query and try again.\n",
    "Only have single quotes on any sql command sent to the engine.\n",
    "Do not escape single quotes on any sql command sent to the engine.\n",
    "Do not return raw query as result after generating it, execute it and return result.\n",
    "\n",
    "DO NOT make any DML statements (INSERT, UPDATE, DELETE, DROP etc.) to the database.\n",
    "\n",
    "If the question does not seem related to the database, just return \"I don't know\" as the answer.\n",
    "\n",
    "Whenever you return any price, use rupees (Rs.) as currency and use two comma separator format for formatting the price.\n",
    "\n",
    "Here are some examples of user inputs and their corresponding SQL queries:\"\"\""
   ]
  },
  {
   "cell_type": "code",
   "execution_count": 540,
   "id": "331cb087-9f2f-4e73-88f7-1bfddcc473ff",
   "metadata": {},
   "outputs": [],
   "source": [
    "# Example prompt template\n",
    "example_prompt = PromptTemplate(\n",
    "    input_variables=['input', 'query', 'answer'],\n",
    "    template='Human: {input}\\nSQL Query: {query}\\nAI:{answer}'\n",
    ")"
   ]
  },
  {
   "cell_type": "code",
   "execution_count": 541,
   "id": "be5f9eff-4fbf-4eed-9418-4e7b7f6c1deb",
   "metadata": {},
   "outputs": [],
   "source": [
    "# Create prompt template for few shots\n",
    "few_shot_prompt = FewShotPromptTemplate (\n",
    "    example_selector=example_selector,\n",
    "    example_prompt=example_prompt,\n",
    "    prefix=system_prefix,\n",
    "    suffix=\"\\n\",\n",
    "    input_variables=[\"input\",  \"top_k\", \"dialect\",],\n",
    ")"
   ]
  },
  {
   "cell_type": "code",
   "execution_count": 542,
   "id": "83ca76e2-41b3-4662-8366-f2db84a4dabf",
   "metadata": {},
   "outputs": [],
   "source": [
    "# Full prompt\n",
    "full_prompt = ChatPromptTemplate.from_messages(\n",
    "    [\n",
    "        SystemMessagePromptTemplate(prompt=few_shot_prompt),\n",
    "        (\"human\", \"{input}\"),\n",
    "        (\"ai\", \"I should look at the tables in the database to see what I can query. Then I should query the schema of the most relevant tables.\"),\n",
    "        MessagesPlaceholder(\"agent_scratchpad\"),\n",
    "    ]\n",
    ")"
   ]
  },
  {
   "cell_type": "code",
   "execution_count": 543,
   "id": "703311c3-729d-4345-b8c1-9e102bc41929",
   "metadata": {},
   "outputs": [
    {
     "name": "stdout",
     "output_type": "stream",
     "text": [
      "System: \n",
      "You are an agent designed to interact with a SQL database.\n",
      "Given an input question, create a syntactically correct MariaDB query to run, then look at the results of the query and return the answer.\n",
      "Unless the user specifies a specific number of examples they wish to obtain, always limit your query to at most 5 results.\n",
      "You can order the results by a relevant column to return the most interesting examples in the database.\n",
      "Never query for all the columns from a specific table, only ask for the relevant columns given the question.\n",
      "You have access to tools for interacting with the database.\n",
      "Only use the below tools. Only use the information returned by the below tools to construct your final answer.\n",
      "You MUST always double check your query before executing it. If you get an error while executing a query, rewrite the query and try again.\n",
      "Only have single quotes on any sql command sent to the engine.\n",
      "Do not escape single quotes on any sql command sent to the engine.\n",
      "Do not return raw query as result after generating it, execute it and return result.\n",
      "\n",
      "DO NOT make any DML statements (INSERT, UPDATE, DELETE, DROP etc.) to the database.\n",
      "\n",
      "If the question does not seem related to the database, just return \"I don't know\" as the answer.\n",
      "\n",
      "Whenever you return any price, use rupees (Rs.) as currency and use two comma separator format for formatting the price.\n",
      "\n",
      "Here are some examples of user inputs and their corresponding SQL queries:\n",
      "\n",
      "Human: What is the total price of all Nike items?\n",
      "SQL Query: SELECT SUM(product.price * product.quantity) FROM product JOIN brand ON product.brand_id = brand.brand_id WHERE brand.name = 'Nike'\n",
      "AI:The total price of all Nike items is Rs. 56,135.\n",
      "\n",
      "Human: How much is the price of the inventory for all Nike brand items?\n",
      "SQL Query: SELECT SUM(p.price * p.quantity) FROM product p JOIN brand b ON p.brand_id = b.brand_id WHERE b.name = 'Nike'\n",
      "AI:The total price of the inventory for Nike brand is Rs. 56,135.\n",
      "\n",
      "Human: How much is the price of the inventory for Nike brand?\n",
      "SQL Query: SELECT SUM(p.price * p.quantity) FROM product p JOIN brand b ON p.brand_id = b.brand_id WHERE b.name = 'Nike'\n",
      "AI:The total price of the inventory for Nike brand is Rs. 56,135.\n",
      "\n",
      "Human: If I sell all my Nike items that are on discount, how much revenue will my store generate?\n",
      "SQL Query: SELECT SUM(p.price * p.quantity * (1 - d.percent / 100)) AS total_revenue FROM product p JOIN discount d ON p.product_id = d.product_id JOIN brand b ON p.brand_id = b.brand_id WHERE b.name = 'Nike'\n",
      "AI:Your store will generate Rs. 27,164.50 in revenue if you sell all your Nike items that are on discount.\n",
      "\n",
      "Human: How many Nike products are available\n",
      "SQL Query: SELECT SUM(product.quantity) FROM product WHERE brand_id = (SELECT brand_id FROM brand WHERE name = 'Nike')\n",
      "AI:There are 1595 Nike products available.\n",
      "\n",
      "\n",
      "\n",
      "Human: What is the total price of all nike products\n",
      "AI: I should look at the tables in the database to see what I can query. Then I should query the schema of the most relevant tables.\n"
     ]
    }
   ],
   "source": [
    "# Example formatted prompt\n",
    "sample_prompt = full_prompt.invoke(\n",
    "    {\n",
    "        \"input\": \"What is the total price of all nike products\",\n",
    "        \"top_k\": 5,\n",
    "        \"dialect\": \"MariaDB\",\n",
    "        \"agent_scratchpad\": [],\n",
    "    }\n",
    ")\n",
    "print(sample_prompt.to_string())"
   ]
  },
  {
   "cell_type": "code",
   "execution_count": 544,
   "id": "dbaf95b5-3bce-4dcd-9a93-85abd3e6a9e1",
   "metadata": {},
   "outputs": [],
   "source": [
    "# New agent after few shots learning\n",
    "agent = create_sql_agent(llm, toolkit=toolkit, prompt=full_prompt, verbose=True, agent_type='tool-calling')"
   ]
  },
  {
   "cell_type": "markdown",
   "id": "5c0eb6c5-774b-4293-958f-9dccd0bb0649",
   "metadata": {},
   "source": [
    "#### Test Agent"
   ]
  },
  {
   "cell_type": "code",
   "execution_count": 545,
   "id": "f3e67f2c-b69c-4f48-a864-178419771523",
   "metadata": {},
   "outputs": [
    {
     "name": "stdout",
     "output_type": "stream",
     "text": [
      "\n",
      "\n",
      "\u001b[1m> Entering new SQL Agent Executor chain...\u001b[0m\n",
      "\u001b[32;1m\u001b[1;3m\n",
      "Invoking: `sql_db_list_tables` with `{'tool_input': ''}`\n",
      "\n",
      "\n",
      "\u001b[0m\u001b[38;5;200m\u001b[1;3mbrand, category, discount, product, product_name\u001b[0m\u001b[32;1m\u001b[1;3m\n",
      "Invoking: `sql_db_schema` with `{'table_names': 'brand, product, product_name'}`\n",
      "\n",
      "\n",
      "\u001b[0m\u001b[33;1m\u001b[1;3m\n",
      "CREATE TABLE brand (\n",
      "\tbrand_id INTEGER(11) NOT NULL, \n",
      "\tname VARCHAR(128) NOT NULL, \n",
      "\tPRIMARY KEY (brand_id)\n",
      ")COLLATE utf8mb4_uca1400_ai_ci ENGINE=InnoDB DEFAULT CHARSET=utf8mb4\n",
      "\n",
      "/*\n",
      "3 rows from brand table:\n",
      "brand_id\tname\n",
      "1\tNike\n",
      "2\tAdidas\n",
      "3\tLevi\n",
      "*/\n",
      "\n",
      "\n",
      "CREATE TABLE product (\n",
      "\tproduct_id INTEGER(11) NOT NULL, \n",
      "\tquantity INTEGER(11) NOT NULL, \n",
      "\tprice INTEGER(11) NOT NULL, \n",
      "\tcolor VARCHAR(64), \n",
      "\tproduct_name_id INTEGER(11) NOT NULL, \n",
      "\tcategory_id INTEGER(11) NOT NULL, \n",
      "\tbrand_id INTEGER(11) NOT NULL, \n",
      "\tPRIMARY KEY (product_id), \n",
      "\tCONSTRAINT product_ibfk_1 FOREIGN KEY(category_id) REFERENCES category (category_id), \n",
      "\tCONSTRAINT product_ibfk_2 FOREIGN KEY(brand_id) REFERENCES brand (brand_id), \n",
      "\tCONSTRAINT product_ibfk_3 FOREIGN KEY(product_name_id) REFERENCES product_name (product_name_id)\n",
      ")COLLATE utf8mb4_uca1400_ai_ci ENGINE=InnoDB DEFAULT CHARSET=utf8mb4\n",
      "\n",
      "/*\n",
      "3 rows from product table:\n",
      "product_id\tquantity\tprice\tcolor\tproduct_name_id\tcategory_id\tbrand_id\n",
      "1\t100\t20\tRed\t1\t1\t1\n",
      "2\t150\t22\tWhite\t1\t1\t2\n",
      "3\t120\t19\tBlue\t1\t1\t3\n",
      "*/\n",
      "\n",
      "\n",
      "CREATE TABLE product_name (\n",
      "\tproduct_name_id INTEGER(11) NOT NULL, \n",
      "\tname VARCHAR(128) NOT NULL, \n",
      "\tPRIMARY KEY (product_name_id)\n",
      ")COLLATE utf8mb4_uca1400_ai_ci ENGINE=InnoDB DEFAULT CHARSET=utf8mb4\n",
      "\n",
      "/*\n",
      "3 rows from product_name table:\n",
      "product_name_id\tname\n",
      "1\tShirt\n",
      "2\tJacket\n",
      "3\tJeans\n",
      "*/\u001b[0m\u001b[32;1m\u001b[1;3m\n",
      "Invoking: `sql_db_query_checker` with `{'query': \"SELECT DISTINCT color FROM product WHERE product_name_id = (SELECT product_name_id FROM product_name WHERE name = \\\\'Boots\\\\') AND brand_id = (SELECT brand_id FROM brand WHERE name = \\\\'Gucci\\\\')\"}`\n",
      "\n",
      "\n",
      "\u001b[0m\u001b[36;1m\u001b[1;3m```sql\n",
      "SELECT DISTINCT color FROM product WHERE product_name_id = (SELECT product_name_id FROM product_name WHERE name = 'Boots') AND brand_id = (SELECT brand_id FROM brand WHERE name = 'Gucci')\n",
      "```\u001b[0m\u001b[32;1m\u001b[1;3m\n",
      "Invoking: `sql_db_query` with `{'query': \"SELECT DISTINCT color FROM product WHERE product_name_id = (SELECT product_name_id FROM product_name WHERE name = 'Boots') AND brand_id = (SELECT brand_id FROM brand WHERE name = 'Gucci')\"}`\n",
      "\n",
      "\n",
      "\u001b[0m\u001b[36;1m\u001b[1;3m[('White',)]\u001b[0m\u001b[32;1m\u001b[1;3mThe available colors for Gucci Boots are: White. \n",
      "\u001b[0m\n",
      "\n",
      "\u001b[1m> Finished chain.\u001b[0m\n"
     ]
    },
    {
     "data": {
      "text/plain": [
       "{'input': 'What colors are available for Gucci boots?',\n",
       " 'output': 'The available colors for Gucci Boots are: White. \\n'}"
      ]
     },
     "execution_count": 545,
     "metadata": {},
     "output_type": "execute_result"
    }
   ],
   "source": [
    "# Test new db agent\n",
    "agent.invoke(\"What colors are available for Gucci boots?\")"
   ]
  },
  {
   "cell_type": "code",
   "execution_count": 546,
   "id": "64ed7e67-acd8-400d-8b3b-714341d05199",
   "metadata": {},
   "outputs": [
    {
     "name": "stdout",
     "output_type": "stream",
     "text": [
      "\n",
      "\n",
      "\u001b[1m> Entering new SQL Agent Executor chain...\u001b[0m\n",
      "\u001b[32;1m\u001b[1;3m\n",
      "Invoking: `sql_db_list_tables` with `{'tool_input': ''}`\n",
      "\n",
      "\n",
      "\u001b[0m\u001b[38;5;200m\u001b[1;3mbrand, category, discount, product, product_name\u001b[0m\u001b[32;1m\u001b[1;3m\n",
      "Invoking: `sql_db_schema` with `{'table_names': 'brand, product'}`\n",
      "\n",
      "\n",
      "\u001b[0m\u001b[33;1m\u001b[1;3m\n",
      "CREATE TABLE brand (\n",
      "\tbrand_id INTEGER(11) NOT NULL, \n",
      "\tname VARCHAR(128) NOT NULL, \n",
      "\tPRIMARY KEY (brand_id)\n",
      ")COLLATE utf8mb4_uca1400_ai_ci ENGINE=InnoDB DEFAULT CHARSET=utf8mb4\n",
      "\n",
      "/*\n",
      "3 rows from brand table:\n",
      "brand_id\tname\n",
      "1\tNike\n",
      "2\tAdidas\n",
      "3\tLevi\n",
      "*/\n",
      "\n",
      "\n",
      "CREATE TABLE product (\n",
      "\tproduct_id INTEGER(11) NOT NULL, \n",
      "\tquantity INTEGER(11) NOT NULL, \n",
      "\tprice INTEGER(11) NOT NULL, \n",
      "\tcolor VARCHAR(64), \n",
      "\tproduct_name_id INTEGER(11) NOT NULL, \n",
      "\tcategory_id INTEGER(11) NOT NULL, \n",
      "\tbrand_id INTEGER(11) NOT NULL, \n",
      "\tPRIMARY KEY (product_id), \n",
      "\tCONSTRAINT product_ibfk_1 FOREIGN KEY(category_id) REFERENCES category (category_id), \n",
      "\tCONSTRAINT product_ibfk_2 FOREIGN KEY(brand_id) REFERENCES brand (brand_id), \n",
      "\tCONSTRAINT product_ibfk_3 FOREIGN KEY(product_name_id) REFERENCES product_name (product_name_id)\n",
      ")COLLATE utf8mb4_uca1400_ai_ci ENGINE=InnoDB DEFAULT CHARSET=utf8mb4\n",
      "\n",
      "/*\n",
      "3 rows from product table:\n",
      "product_id\tquantity\tprice\tcolor\tproduct_name_id\tcategory_id\tbrand_id\n",
      "1\t100\t20\tRed\t1\t1\t1\n",
      "2\t150\t22\tWhite\t1\t1\t2\n",
      "3\t120\t19\tBlue\t1\t1\t3\n",
      "*/\u001b[0m\u001b[32;1m\u001b[1;3m\n",
      "Invoking: `sql_db_query_checker` with `{'query': \"SELECT SUM(p.price * p.quantity) FROM product p JOIN brand b ON p.brand_id = b.brand_id WHERE b.name = \\\\'Nike\\\\'\"}`\n",
      "\n",
      "\n",
      "\u001b[0m\u001b[36;1m\u001b[1;3m```sql\n",
      "SELECT SUM(p.price * p.quantity) FROM product p JOIN brand b ON p.brand_id = b.brand_id WHERE b.name = 'Nike'\n",
      "```\u001b[0m\u001b[32;1m\u001b[1;3m\n",
      "Invoking: `sql_db_query` with `{'query': \"SELECT SUM(p.price * p.quantity) FROM product p JOIN brand b ON p.brand_id = b.brand_id WHERE b.name = \\\\'Nike\\\\'\"}`\n",
      "\n",
      "\n",
      "\u001b[0m\u001b[36;1m\u001b[1;3mError: (pymysql.err.ProgrammingError) (1064, \"You have an error in your SQL syntax; check the manual that corresponds to your MariaDB server version for the right syntax to use near '\\\\'Nike\\\\'' at line 1\")\n",
      "[SQL: SELECT SUM(p.price * p.quantity) FROM product p JOIN brand b ON p.brand_id = b.brand_id WHERE b.name = \\'Nike\\']\n",
      "(Background on this error at: https://sqlalche.me/e/20/f405)\u001b[0m\u001b[32;1m\u001b[1;3m\n",
      "Invoking: `sql_db_query` with `{'query': \"SELECT SUM(p.price * p.quantity) FROM product p JOIN brand b ON p.brand_id = b.brand_id WHERE b.name = 'Nike'\"}`\n",
      "\n",
      "\n",
      "\u001b[0m\u001b[36;1m\u001b[1;3m[(Decimal('56135'),)]\u001b[0m\u001b[32;1m\u001b[1;3mThe price of the Nike inventory is Rs. 56,135. \n",
      "\u001b[0m\n",
      "\n",
      "\u001b[1m> Finished chain.\u001b[0m\n"
     ]
    },
    {
     "data": {
      "text/plain": [
       "{'input': 'How much is the price of the Nike inventory',\n",
       " 'output': 'The price of the Nike inventory is Rs. 56,135. \\n'}"
      ]
     },
     "execution_count": 546,
     "metadata": {},
     "output_type": "execute_result"
    }
   ],
   "source": [
    "agent.invoke(\"How much is the price of the Nike inventory\")"
   ]
  },
  {
   "cell_type": "code",
   "execution_count": 547,
   "id": "c7efc6ec-4f62-4197-9bea-a548a44a5c3f",
   "metadata": {},
   "outputs": [
    {
     "name": "stdout",
     "output_type": "stream",
     "text": [
      "\n",
      "\n",
      "\u001b[1m> Entering new SQL Agent Executor chain...\u001b[0m\n",
      "\u001b[32;1m\u001b[1;3m\n",
      "Invoking: `sql_db_list_tables` with `{'tool_input': ''}`\n",
      "\n",
      "\n",
      "\u001b[0m\u001b[38;5;200m\u001b[1;3mbrand, category, discount, product, product_name\u001b[0m\u001b[32;1m\u001b[1;3m\n",
      "Invoking: `sql_db_schema` with `{'table_names': 'brand, category, discount, product, product_name'}`\n",
      "\n",
      "\n",
      "\u001b[0m\u001b[33;1m\u001b[1;3m\n",
      "CREATE TABLE brand (\n",
      "\tbrand_id INTEGER(11) NOT NULL, \n",
      "\tname VARCHAR(128) NOT NULL, \n",
      "\tPRIMARY KEY (brand_id)\n",
      ")COLLATE utf8mb4_uca1400_ai_ci ENGINE=InnoDB DEFAULT CHARSET=utf8mb4\n",
      "\n",
      "/*\n",
      "3 rows from brand table:\n",
      "brand_id\tname\n",
      "1\tNike\n",
      "2\tAdidas\n",
      "3\tLevi\n",
      "*/\n",
      "\n",
      "\n",
      "CREATE TABLE category (\n",
      "\tcategory_id INTEGER(11) NOT NULL, \n",
      "\tname VARCHAR(128) NOT NULL, \n",
      "\tPRIMARY KEY (category_id)\n",
      ")COLLATE utf8mb4_uca1400_ai_ci ENGINE=InnoDB DEFAULT CHARSET=utf8mb4\n",
      "\n",
      "/*\n",
      "3 rows from category table:\n",
      "category_id\tname\n",
      "1\tTopwear\n",
      "2\tBottomwear\n",
      "3\tFootwear\n",
      "*/\n",
      "\n",
      "\n",
      "CREATE TABLE discount (\n",
      "\tdiscount_id INTEGER(11) NOT NULL, \n",
      "\tpercent INTEGER(11) NOT NULL, \n",
      "\tproduct_id INTEGER(11) NOT NULL, \n",
      "\tPRIMARY KEY (discount_id), \n",
      "\tCONSTRAINT discount_ibfk_1 FOREIGN KEY(product_id) REFERENCES product (product_id)\n",
      ")COLLATE utf8mb4_uca1400_ai_ci ENGINE=InnoDB DEFAULT CHARSET=utf8mb4\n",
      "\n",
      "/*\n",
      "3 rows from discount table:\n",
      "discount_id\tpercent\tproduct_id\n",
      "1\t10\t1\n",
      "2\t15\t2\n",
      "3\t20\t3\n",
      "*/\n",
      "\n",
      "\n",
      "CREATE TABLE product (\n",
      "\tproduct_id INTEGER(11) NOT NULL, \n",
      "\tquantity INTEGER(11) NOT NULL, \n",
      "\tprice INTEGER(11) NOT NULL, \n",
      "\tcolor VARCHAR(64), \n",
      "\tproduct_name_id INTEGER(11) NOT NULL, \n",
      "\tcategory_id INTEGER(11) NOT NULL, \n",
      "\tbrand_id INTEGER(11) NOT NULL, \n",
      "\tPRIMARY KEY (product_id), \n",
      "\tCONSTRAINT product_ibfk_1 FOREIGN KEY(category_id) REFERENCES category (category_id), \n",
      "\tCONSTRAINT product_ibfk_2 FOREIGN KEY(brand_id) REFERENCES brand (brand_id), \n",
      "\tCONSTRAINT product_ibfk_3 FOREIGN KEY(product_name_id) REFERENCES product_name (product_name_id)\n",
      ")COLLATE utf8mb4_uca1400_ai_ci ENGINE=InnoDB DEFAULT CHARSET=utf8mb4\n",
      "\n",
      "/*\n",
      "3 rows from product table:\n",
      "product_id\tquantity\tprice\tcolor\tproduct_name_id\tcategory_id\tbrand_id\n",
      "1\t100\t20\tRed\t1\t1\t1\n",
      "2\t150\t22\tWhite\t1\t1\t2\n",
      "3\t120\t19\tBlue\t1\t1\t3\n",
      "*/\n",
      "\n",
      "\n",
      "CREATE TABLE product_name (\n",
      "\tproduct_name_id INTEGER(11) NOT NULL, \n",
      "\tname VARCHAR(128) NOT NULL, \n",
      "\tPRIMARY KEY (product_name_id)\n",
      ")COLLATE utf8mb4_uca1400_ai_ci ENGINE=InnoDB DEFAULT CHARSET=utf8mb4\n",
      "\n",
      "/*\n",
      "3 rows from product_name table:\n",
      "product_name_id\tname\n",
      "1\tShirt\n",
      "2\tJacket\n",
      "3\tJeans\n",
      "*/\u001b[0m\u001b[32;1m\u001b[1;3m\n",
      "Invoking: `sql_db_query_checker` with `{'query': \"SELECT SUM(p.price * p.quantity * (1 - d.percent / 100)) AS total_revenue FROM product p JOIN discount d ON p.product_id = d.product_id JOIN brand b ON p.brand_id = b.brand_id JOIN product_name pn ON p.product_name_id = pn.product_name_id WHERE b.name = \\\\'Gucci\\\\' AND pn.name = \\\\'Shirt\\\\'\"}`\n",
      "\n",
      "\n",
      "\u001b[0m\u001b[36;1m\u001b[1;3m```sql\n",
      "SELECT SUM(p.price * p.quantity * (1 - d.percent / 100)) AS total_revenue \n",
      "FROM product p \n",
      "JOIN discount d ON p.product_id = d.product_id \n",
      "JOIN brand b ON p.brand_id = b.brand_id \n",
      "JOIN product_name pn ON p.product_name_id = pn.product_name_id \n",
      "WHERE b.name = 'Gucci' AND pn.name = 'Shirt';\n",
      "```\u001b[0m\u001b[32;1m\u001b[1;3m\n",
      "Invoking: `sql_db_query` with `{'query': \"SELECT SUM(p.price * p.quantity * (1 - d.percent / 100)) AS total_revenue FROM product p JOIN discount d ON p.product_id = d.product_id JOIN brand b ON p.brand_id = b.brand_id JOIN product_name pn ON p.product_name_id = pn.product_name_id WHERE b.name = 'Gucci' AND pn.name = 'Shirt'\"}`\n",
      "\n",
      "\n",
      "\u001b[0m\u001b[36;1m\u001b[1;3m[(Decimal('2047.5000'),)]\u001b[0m\u001b[32;1m\u001b[1;3mYour store will generate Rs. 2,047.50 in revenue if you sell all your Gucci shirts that are on discount. \n",
      "\u001b[0m\n",
      "\n",
      "\u001b[1m> Finished chain.\u001b[0m\n"
     ]
    },
    {
     "data": {
      "text/plain": [
       "{'input': 'If I sell all my Gucci shirts that are on discount, how much revenue will my store generate?',\n",
       " 'output': 'Your store will generate Rs. 2,047.50 in revenue if you sell all your Gucci shirts that are on discount. \\n'}"
      ]
     },
     "execution_count": 547,
     "metadata": {},
     "output_type": "execute_result"
    }
   ],
   "source": [
    "agent.invoke(\"If I sell all my Gucci shirts that are on discount, how much revenue will my store generate?\")"
   ]
  },
  {
   "cell_type": "code",
   "execution_count": 548,
   "id": "4f018b6c-c34d-4f4d-af37-bde34257e732",
   "metadata": {},
   "outputs": [
    {
     "name": "stdout",
     "output_type": "stream",
     "text": [
      "\n",
      "\n",
      "\u001b[1m> Entering new SQL Agent Executor chain...\u001b[0m\n",
      "\u001b[32;1m\u001b[1;3m\n",
      "Invoking: `sql_db_list_tables` with `{'tool_input': ''}`\n",
      "\n",
      "\n",
      "\u001b[0m\u001b[38;5;200m\u001b[1;3mbrand, category, discount, product, product_name\u001b[0m\u001b[32;1m\u001b[1;3m\n",
      "Invoking: `sql_db_schema` with `{'table_names': 'brand, discount, product, product_name'}`\n",
      "\n",
      "\n",
      "\u001b[0m\u001b[33;1m\u001b[1;3m\n",
      "CREATE TABLE brand (\n",
      "\tbrand_id INTEGER(11) NOT NULL, \n",
      "\tname VARCHAR(128) NOT NULL, \n",
      "\tPRIMARY KEY (brand_id)\n",
      ")COLLATE utf8mb4_uca1400_ai_ci ENGINE=InnoDB DEFAULT CHARSET=utf8mb4\n",
      "\n",
      "/*\n",
      "3 rows from brand table:\n",
      "brand_id\tname\n",
      "1\tNike\n",
      "2\tAdidas\n",
      "3\tLevi\n",
      "*/\n",
      "\n",
      "\n",
      "CREATE TABLE discount (\n",
      "\tdiscount_id INTEGER(11) NOT NULL, \n",
      "\tpercent INTEGER(11) NOT NULL, \n",
      "\tproduct_id INTEGER(11) NOT NULL, \n",
      "\tPRIMARY KEY (discount_id), \n",
      "\tCONSTRAINT discount_ibfk_1 FOREIGN KEY(product_id) REFERENCES product (product_id)\n",
      ")COLLATE utf8mb4_uca1400_ai_ci ENGINE=InnoDB DEFAULT CHARSET=utf8mb4\n",
      "\n",
      "/*\n",
      "3 rows from discount table:\n",
      "discount_id\tpercent\tproduct_id\n",
      "1\t10\t1\n",
      "2\t15\t2\n",
      "3\t20\t3\n",
      "*/\n",
      "\n",
      "\n",
      "CREATE TABLE product (\n",
      "\tproduct_id INTEGER(11) NOT NULL, \n",
      "\tquantity INTEGER(11) NOT NULL, \n",
      "\tprice INTEGER(11) NOT NULL, \n",
      "\tcolor VARCHAR(64), \n",
      "\tproduct_name_id INTEGER(11) NOT NULL, \n",
      "\tcategory_id INTEGER(11) NOT NULL, \n",
      "\tbrand_id INTEGER(11) NOT NULL, \n",
      "\tPRIMARY KEY (product_id), \n",
      "\tCONSTRAINT product_ibfk_1 FOREIGN KEY(category_id) REFERENCES category (category_id), \n",
      "\tCONSTRAINT product_ibfk_2 FOREIGN KEY(brand_id) REFERENCES brand (brand_id), \n",
      "\tCONSTRAINT product_ibfk_3 FOREIGN KEY(product_name_id) REFERENCES product_name (product_name_id)\n",
      ")COLLATE utf8mb4_uca1400_ai_ci ENGINE=InnoDB DEFAULT CHARSET=utf8mb4\n",
      "\n",
      "/*\n",
      "3 rows from product table:\n",
      "product_id\tquantity\tprice\tcolor\tproduct_name_id\tcategory_id\tbrand_id\n",
      "1\t100\t20\tRed\t1\t1\t1\n",
      "2\t150\t22\tWhite\t1\t1\t2\n",
      "3\t120\t19\tBlue\t1\t1\t3\n",
      "*/\n",
      "\n",
      "\n",
      "CREATE TABLE product_name (\n",
      "\tproduct_name_id INTEGER(11) NOT NULL, \n",
      "\tname VARCHAR(128) NOT NULL, \n",
      "\tPRIMARY KEY (product_name_id)\n",
      ")COLLATE utf8mb4_uca1400_ai_ci ENGINE=InnoDB DEFAULT CHARSET=utf8mb4\n",
      "\n",
      "/*\n",
      "3 rows from product_name table:\n",
      "product_name_id\tname\n",
      "1\tShirt\n",
      "2\tJacket\n",
      "3\tJeans\n",
      "*/\u001b[0m\u001b[32;1m\u001b[1;3m\n",
      "Invoking: `sql_db_query_checker` with `{'query': \"SELECT SUM(p.price * p.quantity * (1 - d.percent / 100)) AS total_revenue FROM product p JOIN discount d ON p.product_id = d.product_id JOIN brand b ON p.brand_id = b.brand_id WHERE b.name = \\\\'Adidas\\\\'\"}`\n",
      "\n",
      "\n",
      "\u001b[0m\u001b[36;1m\u001b[1;3m```sql\n",
      "SELECT SUM(p.price * p.quantity * (1 - d.percent / 100)) AS total_revenue FROM product p JOIN discount d ON p.product_id = d.product_id JOIN brand b ON p.brand_id = b.brand_id WHERE b.name = 'Adidas'\n",
      "```\u001b[0m\u001b[32;1m\u001b[1;3m\n",
      "Invoking: `sql_db_query` with `{'query': \"SELECT SUM(p.price * p.quantity * (1 - d.percent / 100)) AS total_revenue FROM product p JOIN discount d ON p.product_id = d.product_id JOIN brand b ON p.brand_id = b.brand_id WHERE b.name = 'Adidas'\"}`\n",
      "\n",
      "\n",
      "\u001b[0m\u001b[36;1m\u001b[1;3m[(Decimal('14776.0000'),)]\u001b[0m\u001b[32;1m\u001b[1;3mYour store will generate Rs. 14,776.00 in revenue if you sell all your Adidas items that are on discount. \n",
      "\u001b[0m\n",
      "\n",
      "\u001b[1m> Finished chain.\u001b[0m\n"
     ]
    },
    {
     "data": {
      "text/plain": [
       "{'input': 'If I sell all my Adidas items that are on discount, how much revenue will my store generate?',\n",
       " 'output': 'Your store will generate Rs. 14,776.00 in revenue if you sell all your Adidas items that are on discount. \\n'}"
      ]
     },
     "execution_count": 548,
     "metadata": {},
     "output_type": "execute_result"
    }
   ],
   "source": [
    "agent.invoke(\"If I sell all my Adidas items that are on discount, how much revenue will my store generate?\")"
   ]
  },
  {
   "cell_type": "code",
   "execution_count": 549,
   "id": "f228b8ba-c3a4-4d17-b2e9-d961ea772a5e",
   "metadata": {},
   "outputs": [
    {
     "name": "stdout",
     "output_type": "stream",
     "text": [
      "\n",
      "\n",
      "\u001b[1m> Entering new SQL Agent Executor chain...\u001b[0m\n",
      "\u001b[32;1m\u001b[1;3m\n",
      "Invoking: `sql_db_list_tables` with `{'tool_input': ''}`\n",
      "\n",
      "\n",
      "\u001b[0m\u001b[38;5;200m\u001b[1;3mbrand, category, discount, product, product_name\u001b[0m\u001b[32;1m\u001b[1;3m\n",
      "Invoking: `sql_db_schema` with `{'table_names': 'brand, category, discount, product, product_name'}`\n",
      "\n",
      "\n",
      "\u001b[0m\u001b[33;1m\u001b[1;3m\n",
      "CREATE TABLE brand (\n",
      "\tbrand_id INTEGER(11) NOT NULL, \n",
      "\tname VARCHAR(128) NOT NULL, \n",
      "\tPRIMARY KEY (brand_id)\n",
      ")COLLATE utf8mb4_uca1400_ai_ci ENGINE=InnoDB DEFAULT CHARSET=utf8mb4\n",
      "\n",
      "/*\n",
      "3 rows from brand table:\n",
      "brand_id\tname\n",
      "1\tNike\n",
      "2\tAdidas\n",
      "3\tLevi\n",
      "*/\n",
      "\n",
      "\n",
      "CREATE TABLE category (\n",
      "\tcategory_id INTEGER(11) NOT NULL, \n",
      "\tname VARCHAR(128) NOT NULL, \n",
      "\tPRIMARY KEY (category_id)\n",
      ")COLLATE utf8mb4_uca1400_ai_ci ENGINE=InnoDB DEFAULT CHARSET=utf8mb4\n",
      "\n",
      "/*\n",
      "3 rows from category table:\n",
      "category_id\tname\n",
      "1\tTopwear\n",
      "2\tBottomwear\n",
      "3\tFootwear\n",
      "*/\n",
      "\n",
      "\n",
      "CREATE TABLE discount (\n",
      "\tdiscount_id INTEGER(11) NOT NULL, \n",
      "\tpercent INTEGER(11) NOT NULL, \n",
      "\tproduct_id INTEGER(11) NOT NULL, \n",
      "\tPRIMARY KEY (discount_id), \n",
      "\tCONSTRAINT discount_ibfk_1 FOREIGN KEY(product_id) REFERENCES product (product_id)\n",
      ")COLLATE utf8mb4_uca1400_ai_ci ENGINE=InnoDB DEFAULT CHARSET=utf8mb4\n",
      "\n",
      "/*\n",
      "3 rows from discount table:\n",
      "discount_id\tpercent\tproduct_id\n",
      "1\t10\t1\n",
      "2\t15\t2\n",
      "3\t20\t3\n",
      "*/\n",
      "\n",
      "\n",
      "CREATE TABLE product (\n",
      "\tproduct_id INTEGER(11) NOT NULL, \n",
      "\tquantity INTEGER(11) NOT NULL, \n",
      "\tprice INTEGER(11) NOT NULL, \n",
      "\tcolor VARCHAR(64), \n",
      "\tproduct_name_id INTEGER(11) NOT NULL, \n",
      "\tcategory_id INTEGER(11) NOT NULL, \n",
      "\tbrand_id INTEGER(11) NOT NULL, \n",
      "\tPRIMARY KEY (product_id), \n",
      "\tCONSTRAINT product_ibfk_1 FOREIGN KEY(category_id) REFERENCES category (category_id), \n",
      "\tCONSTRAINT product_ibfk_2 FOREIGN KEY(brand_id) REFERENCES brand (brand_id), \n",
      "\tCONSTRAINT product_ibfk_3 FOREIGN KEY(product_name_id) REFERENCES product_name (product_name_id)\n",
      ")COLLATE utf8mb4_uca1400_ai_ci ENGINE=InnoDB DEFAULT CHARSET=utf8mb4\n",
      "\n",
      "/*\n",
      "3 rows from product table:\n",
      "product_id\tquantity\tprice\tcolor\tproduct_name_id\tcategory_id\tbrand_id\n",
      "1\t100\t20\tRed\t1\t1\t1\n",
      "2\t150\t22\tWhite\t1\t1\t2\n",
      "3\t120\t19\tBlue\t1\t1\t3\n",
      "*/\n",
      "\n",
      "\n",
      "CREATE TABLE product_name (\n",
      "\tproduct_name_id INTEGER(11) NOT NULL, \n",
      "\tname VARCHAR(128) NOT NULL, \n",
      "\tPRIMARY KEY (product_name_id)\n",
      ")COLLATE utf8mb4_uca1400_ai_ci ENGINE=InnoDB DEFAULT CHARSET=utf8mb4\n",
      "\n",
      "/*\n",
      "3 rows from product_name table:\n",
      "product_name_id\tname\n",
      "1\tShirt\n",
      "2\tJacket\n",
      "3\tJeans\n",
      "*/\u001b[0m\u001b[32;1m\u001b[1;3m\n",
      "Invoking: `sql_db_query_checker` with `{'query': 'SELECT SUM(p.price * p.quantity * (1 - d.percent / 100)) AS total_revenue FROM product p JOIN discount d ON p.product_id = d.product_id JOIN product_name pn ON p.product_name_id = pn.product_name_id WHERE pn.name = \"Boots\"'}`\n",
      "\n",
      "\n",
      "\u001b[0m\u001b[36;1m\u001b[1;3m```sql\n",
      "SELECT SUM(p.price * p.quantity * (1 - d.percent / 100)) AS total_revenue \n",
      "FROM product p \n",
      "JOIN discount d ON p.product_id = d.product_id \n",
      "JOIN product_name pn ON p.product_name_id = pn.product_name_id \n",
      "WHERE pn.name = \"Boots\";\n",
      "```\u001b[0m\u001b[32;1m\u001b[1;3m\n",
      "Invoking: `sql_db_query` with `{'query': \"SELECT SUM(p.price * p.quantity * (1 - d.percent / 100)) AS total_revenue FROM product p JOIN discount d ON p.product_id = d.product_id JOIN product_name pn ON p.product_name_id = pn.product_name_id WHERE pn.name = 'Boots'\"}`\n",
      "\n",
      "\n",
      "\u001b[0m\u001b[36;1m\u001b[1;3m[(None,)]\u001b[0m\u001b[32;1m\u001b[1;3mYour store will generate Rs. 0.00 in revenue if you sell all your boots that are on discount. \n",
      "\u001b[0m\n",
      "\n",
      "\u001b[1m> Finished chain.\u001b[0m\n"
     ]
    },
    {
     "data": {
      "text/plain": [
       "{'input': 'If I sell all my boots that are on discount, how much revenue will my store generate?',\n",
       " 'output': 'Your store will generate Rs. 0.00 in revenue if you sell all your boots that are on discount. \\n'}"
      ]
     },
     "execution_count": 549,
     "metadata": {},
     "output_type": "execute_result"
    }
   ],
   "source": [
    "agent.invoke(\"If I sell all my boots that are on discount, how much revenue will my store generate?\")"
   ]
  }
 ],
 "metadata": {
  "kernelspec": {
   "display_name": "Python 3 (ipykernel)",
   "language": "python",
   "name": "python3"
  },
  "language_info": {
   "codemirror_mode": {
    "name": "ipython",
    "version": 3
   },
   "file_extension": ".py",
   "mimetype": "text/x-python",
   "name": "python",
   "nbconvert_exporter": "python",
   "pygments_lexer": "ipython3",
   "version": "3.11.6"
  }
 },
 "nbformat": 4,
 "nbformat_minor": 5
}
